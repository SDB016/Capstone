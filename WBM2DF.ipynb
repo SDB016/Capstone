{
  "nbformat": 4,
  "nbformat_minor": 0,
  "metadata": {
    "colab": {
      "name": "0122.ipynb",
      "provenance": [],
      "collapsed_sections": [],
      "authorship_tag": "ABX9TyMH/p/zAPljV1RRbX4tAroz",
      "include_colab_link": true
    },
    "kernelspec": {
      "name": "python3",
      "display_name": "Python 3"
    },
    "accelerator": "GPU"
  },
  "cells": [
    {
      "cell_type": "markdown",
      "metadata": {
        "id": "view-in-github",
        "colab_type": "text"
      },
      "source": [
        "<a href=\"https://colab.research.google.com/github/SDB016/Capstone/blob/master/WBM2DF.ipynb\" target=\"_parent\"><img src=\"https://colab.research.google.com/assets/colab-badge.svg\" alt=\"Open In Colab\"/></a>"
      ]
    },
    {
      "cell_type": "code",
      "metadata": {
        "colab": {
          "base_uri": "https://localhost:8080/"
        },
        "id": "cUYjuC4M0bHy",
        "outputId": "2c75ef66-5013-4f5e-e259-b0e12b358a38"
      },
      "source": [
        "!wget http://mirlab.org/dataSet/public/MIR-WM811K.zip"
      ],
      "execution_count": 1,
      "outputs": [
        {
          "output_type": "stream",
          "text": [
            "--2021-01-22 13:28:58--  http://mirlab.org/dataSet/public/MIR-WM811K.zip\n",
            "Resolving mirlab.org (mirlab.org)... 140.112.91.63\n",
            "Connecting to mirlab.org (mirlab.org)|140.112.91.63|:80... connected.\n",
            "HTTP request sent, awaiting response... 200 OK\n",
            "Length: 236507403 (226M) [application/x-zip-compressed]\n",
            "Saving to: ‘MIR-WM811K.zip’\n",
            "\n",
            "MIR-WM811K.zip      100%[===================>] 225.55M  23.5MB/s    in 10s     \n",
            "\n",
            "2021-01-22 13:29:08 (21.9 MB/s) - ‘MIR-WM811K.zip’ saved [236507403/236507403]\n",
            "\n"
          ],
          "name": "stdout"
        }
      ]
    },
    {
      "cell_type": "code",
      "metadata": {
        "colab": {
          "base_uri": "https://localhost:8080/"
        },
        "id": "EAMpivqO0tv1",
        "outputId": "45fb35e7-171a-467f-8681-a7f780a7b9a6"
      },
      "source": [
        "!apt-get install unzip"
      ],
      "execution_count": 2,
      "outputs": [
        {
          "output_type": "stream",
          "text": [
            "Reading package lists... Done\n",
            "Building dependency tree       \n",
            "Reading state information... Done\n",
            "unzip is already the newest version (6.0-21ubuntu1.1).\n",
            "0 upgraded, 0 newly installed, 0 to remove and 13 not upgraded.\n"
          ],
          "name": "stdout"
        }
      ]
    },
    {
      "cell_type": "code",
      "metadata": {
        "colab": {
          "base_uri": "https://localhost:8080/"
        },
        "id": "zkKQIL980u3R",
        "outputId": "656ab4b7-739b-48c0-d374-80c62fcd5625"
      },
      "source": [
        "!unzip MIR-WM811K.zip"
      ],
      "execution_count": 3,
      "outputs": [
        {
          "output_type": "stream",
          "text": [
            "Archive:  MIR-WM811K.zip\n",
            "   creating: MIR-WM811K/\n",
            "  inflating: MIR-WM811K/example.m    \n",
            "  inflating: MIR-WM811K/WM811K.mat   \n"
          ],
          "name": "stdout"
        }
      ]
    },
    {
      "cell_type": "code",
      "metadata": {
        "colab": {
          "base_uri": "https://localhost:8080/"
        },
        "id": "kr8kT60o0w7d",
        "outputId": "1a323c02-1bb5-4d2f-fa7e-5625b7b3717f"
      },
      "source": [
        "pip install mat73"
      ],
      "execution_count": 4,
      "outputs": [
        {
          "output_type": "stream",
          "text": [
            "Collecting mat73\n",
            "  Downloading https://files.pythonhosted.org/packages/fe/91/937025d314d66b9e868be94e190a93b5c423db16ee998a559681a81b987e/mat73-0.46-py3-none-any.whl\n",
            "Requirement already satisfied: numpy in /usr/local/lib/python3.6/dist-packages (from mat73) (1.19.5)\n",
            "Requirement already satisfied: h5py in /usr/local/lib/python3.6/dist-packages (from mat73) (2.10.0)\n",
            "Requirement already satisfied: six in /usr/local/lib/python3.6/dist-packages (from h5py->mat73) (1.15.0)\n",
            "Installing collected packages: mat73\n",
            "Successfully installed mat73-0.46\n"
          ],
          "name": "stdout"
        }
      ]
    },
    {
      "cell_type": "code",
      "metadata": {
        "id": "WjyQmBuE0zHo"
      },
      "source": [
        "import pandas as pd\r\n",
        "import scipy.io\r\n",
        "import mat73\r\n",
        "path = './MIR-WM811K/WM811K.mat'\r\n",
        "mat = mat73.loadmat(path)"
      ],
      "execution_count": 5,
      "outputs": []
    },
    {
      "cell_type": "code",
      "metadata": {
        "id": "727UM6xceNoX"
      },
      "source": [
        "df = pd.DataFrame.from_dict(mat,orient='index')"
      ],
      "execution_count": 22,
      "outputs": []
    },
    {
      "cell_type": "code",
      "metadata": {
        "colab": {
          "base_uri": "https://localhost:8080/",
          "height": 148
        },
        "id": "Qp2iKmC1gDol",
        "outputId": "a5bb6898-1c36-46ff-fd61-26a75498e7ef"
      },
      "source": [
        "df"
      ],
      "execution_count": 23,
      "outputs": [
        {
          "output_type": "execute_result",
          "data": {
            "text/html": [
              "<div>\n",
              "<style scoped>\n",
              "    .dataframe tbody tr th:only-of-type {\n",
              "        vertical-align: middle;\n",
              "    }\n",
              "\n",
              "    .dataframe tbody tr th {\n",
              "        vertical-align: top;\n",
              "    }\n",
              "\n",
              "    .dataframe thead th {\n",
              "        text-align: right;\n",
              "    }\n",
              "</style>\n",
              "<table border=\"1\" class=\"dataframe\">\n",
              "  <thead>\n",
              "    <tr style=\"text-align: right;\">\n",
              "      <th></th>\n",
              "      <th>dieSize</th>\n",
              "      <th>failureType</th>\n",
              "      <th>lotName</th>\n",
              "      <th>trainTestLabel</th>\n",
              "      <th>waferIndex</th>\n",
              "      <th>waferMap</th>\n",
              "    </tr>\n",
              "  </thead>\n",
              "  <tbody>\n",
              "    <tr>\n",
              "      <th>data</th>\n",
              "      <td>[[1683.0], [1683.0], [1683.0], [1683.0], [1683...</td>\n",
              "      <td>[[none], [none], [none], [none], [none], [none...</td>\n",
              "      <td>[[lot1], [lot1], [lot1], [lot1], [lot1], [lot1...</td>\n",
              "      <td>[[Training], [Training], [Training], [Training...</td>\n",
              "      <td>[[1.0], [2.0], [3.0], [4.0], [5.0], [6.0], [7....</td>\n",
              "      <td>[[[[0 0 0 0 0 0 0 0 0 0 0 0 0 0 0 0 0 0 0 0 0 ...</td>\n",
              "    </tr>\n",
              "  </tbody>\n",
              "</table>\n",
              "</div>"
            ],
            "text/plain": [
              "                                                dieSize  ...                                           waferMap\n",
              "data  [[1683.0], [1683.0], [1683.0], [1683.0], [1683...  ...  [[[[0 0 0 0 0 0 0 0 0 0 0 0 0 0 0 0 0 0 0 0 0 ...\n",
              "\n",
              "[1 rows x 6 columns]"
            ]
          },
          "metadata": {
            "tags": []
          },
          "execution_count": 23
        }
      ]
    }
  ]
}